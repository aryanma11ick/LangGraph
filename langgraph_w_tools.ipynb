{
 "cells": [
  {
   "metadata": {
    "ExecuteTime": {
     "end_time": "2025-03-10T06:28:43.133314Z",
     "start_time": "2025-03-10T06:28:43.125674Z"
    }
   },
   "cell_type": "code",
   "source": [
    "from typing import Annotated\n",
    "from typing_extensions import TypedDict\n",
    "from langchain_community.utilities import ArxivAPIWrapper, WikipediaAPIWrapper\n",
    "from langchain_community.tools import ArxivQueryRun, WikipediaQueryRun\n",
    "from langgraph.graph.message import add_messages\n",
    "\n",
    "#from langgraph import user_input\n"
   ],
   "id": "c730c2194cc167d3",
   "outputs": [],
   "execution_count": 57
  },
  {
   "cell_type": "code",
   "id": "initial_id",
   "metadata": {
    "collapsed": true,
    "ExecuteTime": {
     "end_time": "2025-03-10T06:28:43.217226Z",
     "start_time": "2025-03-10T06:28:43.209895Z"
    }
   },
   "source": [
    "import os\n",
    "from dotenv import load_dotenv\n",
    "\n",
    "#Loading Keys from .env file\n",
    "load_dotenv()\n",
    "groq_api_key = os.getenv(\"GROQ\")"
   ],
   "outputs": [],
   "execution_count": 58
  },
  {
   "metadata": {
    "ExecuteTime": {
     "end_time": "2025-03-10T06:28:43.240173Z",
     "start_time": "2025-03-10T06:28:43.234154Z"
    }
   },
   "cell_type": "code",
   "source": [
    "  #Working with the tools\n",
    "arxiv_wrapper=ArxivAPIWrapper(top_k_results=1,doc_content_chars_max=300)\n",
    "arxiv_tool=ArxivQueryRun(api_wrapper=arxiv_wrapper)\n",
    "\n",
    "api_wrapper=WikipediaAPIWrapper(top_k_results=1,doc_content_chars_max=300)\n",
    "wiki_tool=WikipediaQueryRun(api_wrapper=api_wrapper)"
   ],
   "id": "3611c2a2f4912c66",
   "outputs": [],
   "execution_count": 59
  },
  {
   "metadata": {
    "ExecuteTime": {
     "end_time": "2025-03-10T06:28:45.188775Z",
     "start_time": "2025-03-10T06:28:43.256577Z"
    }
   },
   "cell_type": "code",
   "source": "wiki_tool.invoke(\"who is Sharukh Khan\")",
   "id": "bba5fb13b17d8891",
   "outputs": [
    {
     "data": {
      "text/plain": [
       "'Page: Shah Rukh Khan\\nSummary: Shah Rukh Khan (pronounced [ˈʃaːɦɾʊx xäːn] ; born 2 November 1965), also known by the initialism SRK, is an Indian actor and film producer who works in Hindi cinema. Referred to in the media as the \"Baadshah of Bollywood\" and \"King Khan\", he has appeared in more than 10'"
      ]
     },
     "execution_count": 60,
     "metadata": {},
     "output_type": "execute_result"
    }
   ],
   "execution_count": 60
  },
  {
   "metadata": {
    "ExecuteTime": {
     "end_time": "2025-03-10T06:29:08.972412Z",
     "start_time": "2025-03-10T06:29:04.839500Z"
    }
   },
   "cell_type": "code",
   "source": "arxiv_tool.invoke(\"Attention is all you need\")",
   "id": "e190380307f8227e",
   "outputs": [
    {
     "data": {
      "text/plain": [
       "\"Published: 2024-07-22\\nTitle: Attention Is All You Need But You Don't Need All Of It For Inference of Large Language Models\\nAuthors: Georgy Tyukin, Gbetondji J-S Dovonon, Jean Kaddour, Pasquale Minervini\\nSummary: The inference demand for LLMs has skyrocketed in recent months, and serving\\nmodels with \""
      ]
     },
     "execution_count": 62,
     "metadata": {},
     "output_type": "execute_result"
    }
   ],
   "execution_count": 62
  },
  {
   "metadata": {
    "ExecuteTime": {
     "end_time": "2025-03-10T06:29:12.895595Z",
     "start_time": "2025-03-10T06:29:12.889763Z"
    }
   },
   "cell_type": "code",
   "source": "tools=[wiki_tool]",
   "id": "b851fe4d5680e1de",
   "outputs": [],
   "execution_count": 64
  },
  {
   "metadata": {
    "ExecuteTime": {
     "end_time": "2025-03-10T06:29:14.694391Z",
     "start_time": "2025-03-10T06:29:14.689186Z"
    }
   },
   "cell_type": "code",
   "source": [
    "class State(TypedDict):\n",
    "     messages:Annotated[list, add_messages]"
   ],
   "id": "4ed6cbbec7752b5a",
   "outputs": [],
   "execution_count": 65
  },
  {
   "metadata": {
    "ExecuteTime": {
     "end_time": "2025-03-10T06:29:16.504113Z",
     "start_time": "2025-03-10T06:29:16.498471Z"
    }
   },
   "cell_type": "code",
   "source": [
    "from langgraph.graph import StateGraph, START, END\n",
    "graph_builder= StateGraph(State)"
   ],
   "id": "a323d2b6a78b0d47",
   "outputs": [],
   "execution_count": 66
  },
  {
   "metadata": {
    "ExecuteTime": {
     "end_time": "2025-03-10T06:29:18.946546Z",
     "start_time": "2025-03-10T06:29:17.950442Z"
    }
   },
   "cell_type": "code",
   "source": [
    "from langchain_groq import ChatGroq\n",
    "llm = ChatGroq(groq_api_key=groq_api_key, model_name=\"Gemma2-9b-It\")\n",
    "llm"
   ],
   "id": "19e0a44bce7bbc7a",
   "outputs": [
    {
     "data": {
      "text/plain": [
       "ChatGroq(client=<groq.resources.chat.completions.Completions object at 0x000001BDC366FBD0>, async_client=<groq.resources.chat.completions.AsyncCompletions object at 0x000001BDC448D8C0>, model_name='Gemma2-9b-It', model_kwargs={}, groq_api_key=SecretStr('**********'))"
      ]
     },
     "execution_count": 67,
     "metadata": {},
     "output_type": "execute_result"
    }
   ],
   "execution_count": 67
  },
  {
   "metadata": {
    "ExecuteTime": {
     "end_time": "2025-03-10T06:29:20.198635Z",
     "start_time": "2025-03-10T06:29:20.188452Z"
    }
   },
   "cell_type": "code",
   "source": "llm_with_tools = llm.bind_tools(tools=tools)",
   "id": "7a672fd54f63cd82",
   "outputs": [],
   "execution_count": 68
  },
  {
   "metadata": {
    "ExecuteTime": {
     "end_time": "2025-03-10T06:29:21.956994Z",
     "start_time": "2025-03-10T06:29:21.951244Z"
    }
   },
   "cell_type": "code",
   "source": [
    "def chatbot(state:State):\n",
    "    return {\"messages\":[llm_with_tools.invoke(state[\"messages\"])]}"
   ],
   "id": "e219f622ae89320a",
   "outputs": [],
   "execution_count": 69
  },
  {
   "metadata": {
    "ExecuteTime": {
     "end_time": "2025-03-10T06:29:23.554050Z",
     "start_time": "2025-03-10T06:29:23.548244Z"
    }
   },
   "cell_type": "code",
   "source": "from langgraph.prebuilt import ToolNode, tools_condition",
   "id": "d6d6f686a1a3b42d",
   "outputs": [],
   "execution_count": 70
  },
  {
   "metadata": {
    "ExecuteTime": {
     "end_time": "2025-03-10T06:31:19.757399Z",
     "start_time": "2025-03-10T06:31:19.752737Z"
    }
   },
   "cell_type": "code",
   "source": "",
   "id": "c30b171d1d5983cc",
   "outputs": [],
   "execution_count": 74
  },
  {
   "metadata": {
    "ExecuteTime": {
     "end_time": "2025-03-10T06:32:50.024066Z",
     "start_time": "2025-03-10T06:32:49.968863Z"
    }
   },
   "cell_type": "code",
   "source": [
    "#graph_builder.add_node(\"chatbot\", chatbot)\n",
    "graph_builder.add_edge(START, \"chatbot\")\n",
    "\n",
    "tool_node = ToolNode(tools=tools)\n",
    "#graph_builder.add_node(\"tools\", tool_node)\n",
    "graph_builder.add_conditional_edges(\n",
    "    \"chatbot\",\n",
    "    tools_condition\n",
    ")\n",
    "graph_builder.add_edge(\"tools\", \"chatbot\")\n",
    "graph_builder.add_edge(\"chatbot\", END)"
   ],
   "id": "b5d6d9214df8758a",
   "outputs": [
    {
     "name": "stderr",
     "output_type": "stream",
     "text": [
      "Adding an edge to a graph that has already been compiled. This will not be reflected in the compiled graph.\n",
      "Adding an edge to a graph that has already been compiled. This will not be reflected in the compiled graph.\n"
     ]
    },
    {
     "ename": "ValueError",
     "evalue": "Branch with name `tools_condition` already exists for node `chatbot`",
     "output_type": "error",
     "traceback": [
      "\u001B[31m---------------------------------------------------------------------------\u001B[39m",
      "\u001B[31mValueError\u001B[39m                                Traceback (most recent call last)",
      "\u001B[36mCell\u001B[39m\u001B[36m \u001B[39m\u001B[32mIn[81]\u001B[39m\u001B[32m, line 6\u001B[39m\n\u001B[32m      4\u001B[39m tool_node = ToolNode(tools=tools)\n\u001B[32m      5\u001B[39m \u001B[38;5;66;03m#graph_builder.add_node(\"tools\", tool_node)\u001B[39;00m\n\u001B[32m----> \u001B[39m\u001B[32m6\u001B[39m \u001B[43mgraph_builder\u001B[49m\u001B[43m.\u001B[49m\u001B[43madd_conditional_edges\u001B[49m\u001B[43m(\u001B[49m\n\u001B[32m      7\u001B[39m \u001B[43m    \u001B[49m\u001B[33;43m\"\u001B[39;49m\u001B[33;43mchatbot\u001B[39;49m\u001B[33;43m\"\u001B[39;49m\u001B[43m,\u001B[49m\n\u001B[32m      8\u001B[39m \u001B[43m    \u001B[49m\u001B[43mtools_condition\u001B[49m\n\u001B[32m      9\u001B[39m \u001B[43m)\u001B[49m\n\u001B[32m     10\u001B[39m graph_builder.add_edge(\u001B[33m\"\u001B[39m\u001B[33mtools\u001B[39m\u001B[33m\"\u001B[39m, \u001B[33m\"\u001B[39m\u001B[33mchatbot\u001B[39m\u001B[33m\"\u001B[39m)\n\u001B[32m     11\u001B[39m graph_builder.add_edge(\u001B[33m\"\u001B[39m\u001B[33mchatbot\u001B[39m\u001B[33m\"\u001B[39m, END)\n",
      "\u001B[36mFile \u001B[39m\u001B[32m~\\Documents\\Projects\\LangGraph\\.venv\\Lib\\site-packages\\langgraph\\graph\\graph.py:294\u001B[39m, in \u001B[36mGraph.add_conditional_edges\u001B[39m\u001B[34m(self, source, path, path_map, then)\u001B[39m\n\u001B[32m    292\u001B[39m \u001B[38;5;66;03m# validate the condition\u001B[39;00m\n\u001B[32m    293\u001B[39m \u001B[38;5;28;01mif\u001B[39;00m name \u001B[38;5;129;01min\u001B[39;00m \u001B[38;5;28mself\u001B[39m.branches[source]:\n\u001B[32m--> \u001B[39m\u001B[32m294\u001B[39m     \u001B[38;5;28;01mraise\u001B[39;00m \u001B[38;5;167;01mValueError\u001B[39;00m(\n\u001B[32m    295\u001B[39m         \u001B[33mf\u001B[39m\u001B[33m\"\u001B[39m\u001B[33mBranch with name `\u001B[39m\u001B[38;5;132;01m{\u001B[39;00mpath.name\u001B[38;5;132;01m}\u001B[39;00m\u001B[33m` already exists for node \u001B[39m\u001B[33m\"\u001B[39m \u001B[33mf\u001B[39m\u001B[33m\"\u001B[39m\u001B[33m`\u001B[39m\u001B[38;5;132;01m{\u001B[39;00msource\u001B[38;5;132;01m}\u001B[39;00m\u001B[33m`\u001B[39m\u001B[33m\"\u001B[39m\n\u001B[32m    296\u001B[39m     )\n\u001B[32m    297\u001B[39m \u001B[38;5;66;03m# save it\u001B[39;00m\n\u001B[32m    298\u001B[39m \u001B[38;5;28mself\u001B[39m.branches[source][name] = Branch(path, path_map_, then)\n",
      "\u001B[31mValueError\u001B[39m: Branch with name `tools_condition` already exists for node `chatbot`"
     ]
    }
   ],
   "execution_count": 81
  },
  {
   "metadata": {
    "ExecuteTime": {
     "end_time": "2025-03-10T06:32:59.134216Z",
     "start_time": "2025-03-10T06:32:59.127423Z"
    }
   },
   "cell_type": "code",
   "source": "graph=graph_builder.compile()",
   "id": "c28862605f93f1c6",
   "outputs": [],
   "execution_count": 82
  },
  {
   "metadata": {
    "ExecuteTime": {
     "end_time": "2025-03-10T06:34:18.625019Z",
     "start_time": "2025-03-10T06:34:18.082157Z"
    }
   },
   "cell_type": "code",
   "source": [
    "from IPython.display import display, Image\n",
    "\n",
    "try:\n",
    "    display(Image(graph.get_graph().draw_mermaid_png()))\n",
    "except Exception:\n",
    "    pass"
   ],
   "id": "aff11366eb70e03e",
   "outputs": [
    {
     "data": {
      "image/png": "[encoded data removed]",
      "text/plain": [
       "<IPython.core.display.Image object>"
      ]
     },
     "metadata": {},
     "output_type": "display_data"
    }
   ],
   "execution_count": 85
  },
  {
   "metadata": {
    "ExecuteTime": {
     "end_time": "2025-03-10T06:34:52.102147Z",
     "start_time": "2025-03-10T06:34:48.996397Z"
    }
   },
   "cell_type": "code",
   "source": [
    "user_input=\"Hi there, My name is John\"\n",
    "events=graph.stream(\n",
    "    {\"messages\": [(\"user\", user_input)]},stream_mode=\"values\"\n",
    ")\n",
    "\n",
    "for event in events:\n",
    "    event[\"messages\"][-1].pretty_print()"
   ],
   "id": "2c4d4b7dad7b8454",
   "outputs": [
    {
     "name": "stdout",
     "output_type": "stream",
     "text": [
      "================================\u001B[1m Human Message \u001B[0m=================================\n",
      "\n",
      "Hi there, My name is John\n",
      "==================================\u001B[1m Ai Message \u001B[0m==================================\n",
      "Tool Calls:\n",
      "  wikipedia (call_9e9j)\n",
      " Call ID: call_9e9j\n",
      "  Args:\n",
      "    query: John\n",
      "=================================\u001B[1m Tool Message \u001B[0m=================================\n",
      "Name: wikipedia\n",
      "\n",
      "No good Wikipedia Search Result was found\n"
     ]
    },
    {
     "name": "stderr",
     "output_type": "stream",
     "text": [
      "C:\\Users\\Aryan\\Documents\\Projects\\LangGraph\\.venv\\Lib\\site-packages\\wikipedia\\wikipedia.py:389: GuessedAtParserWarning: No parser was explicitly specified, so I'm using the best available HTML parser for this system (\"html.parser\"). This usually isn't a problem, but if you run this code on another system, or in a different virtual environment, it may use a different parser and behave differently.\n",
      "\n",
      "The code that caused this warning is on line 389 of the file C:\\Users\\Aryan\\Documents\\Projects\\LangGraph\\.venv\\Lib\\site-packages\\wikipedia\\wikipedia.py. To get rid of this warning, pass the additional argument 'features=\"html.parser\"' to the BeautifulSoup constructor.\n",
      "\n",
      "  lis = BeautifulSoup(html).find_all('li')\n"
     ]
    }
   ],
   "execution_count": 87
  }
 ],
 "metadata": {
  "kernelspec": {
   "display_name": "Python 3",
   "language": "python",
   "name": "python3"
  },
  "language_info": {
   "codemirror_mode": {
    "name": "ipython",
    "version": 2
   },
   "file_extension": ".py",
   "mimetype": "text/x-python",
   "name": "python",
   "nbconvert_exporter": "python",
   "pygments_lexer": "ipython2",
   "version": "2.7.6"
  }
 },
 "nbformat": 4,
 "nbformat_minor": 5
}
