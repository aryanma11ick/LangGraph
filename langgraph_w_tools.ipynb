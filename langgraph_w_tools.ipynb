{
 "cells": [
  {
   "metadata": {
    "ExecuteTime": {
     "end_time": "2025-03-10T06:10:42.357170Z",
     "start_time": "2025-03-10T06:10:42.351935Z"
    }
   },
   "cell_type": "code",
   "source": [
    "from typing import Annotated\n",
    "from typing_extensions import TypedDict\n",
    "from langchain_community.utilities import ArxivAPIWrapper, WikipediaAPIWrapper\n",
    "from langchain_community.tools import ArxivQueryRun, WikipediaQueryRun\n",
    "from langgraph.graph.message import add_messages\n"
   ],
   "id": "c730c2194cc167d3",
   "outputs": [],
   "execution_count": 18
  },
  {
   "cell_type": "code",
   "id": "initial_id",
   "metadata": {
    "collapsed": true,
    "ExecuteTime": {
     "end_time": "2025-03-10T06:10:42.374600Z",
     "start_time": "2025-03-10T06:10:42.367519Z"
    }
   },
   "source": [
    "import os\n",
    "from dotenv import load_dotenv\n",
    "\n",
    "#Loading Keys from .env file\n",
    "load_dotenv()\n",
    "groq_api_key = os.getenv(\"GROQ\")"
   ],
   "outputs": [],
   "execution_count": 19
  },
  {
   "metadata": {
    "ExecuteTime": {
     "end_time": "2025-03-10T06:10:42.393939Z",
     "start_time": "2025-03-10T06:10:42.388635Z"
    }
   },
   "cell_type": "code",
   "source": [
    "  #Working with the tools\n",
    "arxiv_wrapper=ArxivAPIWrapper(top_k_results=1,doc_content_chars_max=300)\n",
    "arxiv_tool=ArxivQueryRun(api_wrapper=arxiv_wrapper)\n",
    "\n",
    "api_wrapper=WikipediaAPIWrapper(top_k_results=1,doc_content_chars_max=300)\n",
    "wiki_tool=WikipediaQueryRun(api_wrapper=api_wrapper)"
   ],
   "id": "3611c2a2f4912c66",
   "outputs": [],
   "execution_count": 20
  },
  {
   "metadata": {
    "ExecuteTime": {
     "end_time": "2025-03-10T06:10:44.422766Z",
     "start_time": "2025-03-10T06:10:42.408859Z"
    }
   },
   "cell_type": "code",
   "source": "wiki_tool.invoke(\"who is Sharukh Khan\")",
   "id": "bba5fb13b17d8891",
   "outputs": [
    {
     "data": {
      "text/plain": [
       "'Page: Shah Rukh Khan\\nSummary: Shah Rukh Khan (pronounced [ˈʃaːɦɾʊx xäːn] ; born 2 November 1965), also known by the initialism SRK, is an Indian actor and film producer who works in Hindi cinema. Referred to in the media as the \"Baadshah of Bollywood\" and \"King Khan\", he has appeared in more than 10'"
      ]
     },
     "execution_count": 21,
     "metadata": {},
     "output_type": "execute_result"
    }
   ],
   "execution_count": 21
  },
  {
   "metadata": {
    "ExecuteTime": {
     "end_time": "2025-03-10T06:10:46.769628Z",
     "start_time": "2025-03-10T06:10:44.448915Z"
    }
   },
   "cell_type": "code",
   "source": "arxiv_tool.invoke(\"Attention is all you need\")",
   "id": "e190380307f8227e",
   "outputs": [
    {
     "data": {
      "text/plain": [
       "\"Published: 2024-07-22\\nTitle: Attention Is All You Need But You Don't Need All Of It For Inference of Large Language Models\\nAuthors: Georgy Tyukin, Gbetondji J-S Dovonon, Jean Kaddour, Pasquale Minervini\\nSummary: The inference demand for LLMs has skyrocketed in recent months, and serving\\nmodels with \""
      ]
     },
     "execution_count": 22,
     "metadata": {},
     "output_type": "execute_result"
    }
   ],
   "execution_count": 22
  },
  {
   "metadata": {
    "ExecuteTime": {
     "end_time": "2025-03-10T06:10:46.801053Z",
     "start_time": "2025-03-10T06:10:46.796136Z"
    }
   },
   "cell_type": "code",
   "source": "tools=[wiki_tool,arxiv_tool]",
   "id": "b851fe4d5680e1de",
   "outputs": [],
   "execution_count": 23
  },
  {
   "metadata": {
    "ExecuteTime": {
     "end_time": "2025-03-10T06:10:46.822969Z",
     "start_time": "2025-03-10T06:10:46.817799Z"
    }
   },
   "cell_type": "code",
   "source": [
    "class State(TypedDict):\n",
    "     messages:Annotated[list, add_messages]"
   ],
   "id": "4ed6cbbec7752b5a",
   "outputs": [],
   "execution_count": 24
  },
  {
   "metadata": {
    "ExecuteTime": {
     "end_time": "2025-03-10T06:10:46.855055Z",
     "start_time": "2025-03-10T06:10:46.850512Z"
    }
   },
   "cell_type": "code",
   "source": [
    "from langgraph.graph import StateGraph, START, END\n",
    "graph_builder= StateGraph(State)"
   ],
   "id": "a323d2b6a78b0d47",
   "outputs": [],
   "execution_count": 25
  },
  {
   "metadata": {
    "ExecuteTime": {
     "end_time": "2025-03-10T06:11:47.777704Z",
     "start_time": "2025-03-10T06:11:46.763842Z"
    }
   },
   "cell_type": "code",
   "source": [
    "from langchain_groq import ChatGroq\n",
    "llm = ChatGroq(groq_api_key=\"GROQ\", model_name=\"Gemma2-9b-It\")\n",
    "llm"
   ],
   "id": "19e0a44bce7bbc7a",
   "outputs": [
    {
     "data": {
      "text/plain": [
       "ChatGroq(client=<groq.resources.chat.completions.Completions object at 0x000001BDC0B95CD0>, async_client=<groq.resources.chat.completions.AsyncCompletions object at 0x000001BDC0B97CE0>, model_name='Gemma2-9b-It', model_kwargs={}, groq_api_key=SecretStr('**********'))"
      ]
     },
     "execution_count": 30,
     "metadata": {},
     "output_type": "execute_result"
    }
   ],
   "execution_count": 30
  },
  {
   "metadata": {
    "ExecuteTime": {
     "end_time": "2025-03-10T06:13:00.163526Z",
     "start_time": "2025-03-10T06:13:00.148161Z"
    }
   },
   "cell_type": "code",
   "source": "llm_with_tools = llm.bind_tools(tools=tools)",
   "id": "7a672fd54f63cd82",
   "outputs": [],
   "execution_count": 31
  },
  {
   "metadata": {
    "ExecuteTime": {
     "end_time": "2025-03-10T06:13:58.223378Z",
     "start_time": "2025-03-10T06:13:58.217866Z"
    }
   },
   "cell_type": "code",
   "source": [
    "def chatbot(state:State):\n",
    "    return {\"messages\":[llm_with_tools.invoke(state[\"messages\"])]}"
   ],
   "id": "e219f622ae89320a",
   "outputs": [],
   "execution_count": 32
  },
  {
   "metadata": {},
   "cell_type": "code",
   "outputs": [],
   "execution_count": null,
   "source": "from langgraph.prebuilt import ToolNode, tools_condition",
   "id": "d6d6f686a1a3b42d"
  },
  {
   "metadata": {
    "ExecuteTime": {
     "end_time": "2025-03-10T06:20:22.076715Z",
     "start_time": "2025-03-10T06:20:22.002249Z"
    }
   },
   "cell_type": "code",
   "source": [
    "graph_builder.add_node(\"chatbot\", chatbot)\n",
    "graph_builder.add_edge(START, \"chatbot\")\n",
    "\n",
    "tool_node = ToolNode(tools=tools)\n",
    "graph_builder.add_node(\"tools\", tool_node)\n",
    "graph_builder.add_conditional_edges(\n",
    "    \"chatbot\",\n",
    "    tools_condition\n",
    ")\n",
    "graph_builder.add_edge(\"tools\", \"chatbot\")\n",
    "graph_builder.add_edge(\"chatbot\", END)"
   ],
   "id": "b5d6d9214df8758a",
   "outputs": [
    {
     "ename": "ValueError",
     "evalue": "Node `chatbot` already present.",
     "output_type": "error",
     "traceback": [
      "\u001B[31m---------------------------------------------------------------------------\u001B[39m",
      "\u001B[31mValueError\u001B[39m                                Traceback (most recent call last)",
      "\u001B[36mCell\u001B[39m\u001B[36m \u001B[39m\u001B[32mIn[34]\u001B[39m\u001B[32m, line 1\u001B[39m\n\u001B[32m----> \u001B[39m\u001B[32m1\u001B[39m \u001B[43mgraph_builder\u001B[49m\u001B[43m.\u001B[49m\u001B[43madd_node\u001B[49m\u001B[43m(\u001B[49m\u001B[33;43m\"\u001B[39;49m\u001B[33;43mchatbot\u001B[39;49m\u001B[33;43m\"\u001B[39;49m\u001B[43m,\u001B[49m\u001B[43m \u001B[49m\u001B[43mchatbot\u001B[49m\u001B[43m)\u001B[49m\n\u001B[32m      2\u001B[39m graph_builder.add_edge(START, \u001B[33m\"\u001B[39m\u001B[33mchatbot\u001B[39m\u001B[33m\"\u001B[39m)\n\u001B[32m      4\u001B[39m tool_node = ToolNode(tools=tools)\n",
      "\u001B[36mFile \u001B[39m\u001B[32m~\\Documents\\Projects\\LangGraph\\.venv\\Lib\\site-packages\\langgraph\\graph\\state.py:357\u001B[39m, in \u001B[36mStateGraph.add_node\u001B[39m\u001B[34m(self, node, action, metadata, input, retry, destinations)\u001B[39m\n\u001B[32m    355\u001B[39m     \u001B[38;5;28;01mraise\u001B[39;00m \u001B[38;5;167;01mRuntimeError\u001B[39;00m\n\u001B[32m    356\u001B[39m \u001B[38;5;28;01mif\u001B[39;00m node \u001B[38;5;129;01min\u001B[39;00m \u001B[38;5;28mself\u001B[39m.nodes:\n\u001B[32m--> \u001B[39m\u001B[32m357\u001B[39m     \u001B[38;5;28;01mraise\u001B[39;00m \u001B[38;5;167;01mValueError\u001B[39;00m(\u001B[33mf\u001B[39m\u001B[33m\"\u001B[39m\u001B[33mNode `\u001B[39m\u001B[38;5;132;01m{\u001B[39;00mnode\u001B[38;5;132;01m}\u001B[39;00m\u001B[33m` already present.\u001B[39m\u001B[33m\"\u001B[39m)\n\u001B[32m    358\u001B[39m \u001B[38;5;28;01mif\u001B[39;00m node == END \u001B[38;5;129;01mor\u001B[39;00m node == START:\n\u001B[32m    359\u001B[39m     \u001B[38;5;28;01mraise\u001B[39;00m \u001B[38;5;167;01mValueError\u001B[39;00m(\u001B[33mf\u001B[39m\u001B[33m\"\u001B[39m\u001B[33mNode `\u001B[39m\u001B[38;5;132;01m{\u001B[39;00mnode\u001B[38;5;132;01m}\u001B[39;00m\u001B[33m` is reserved.\u001B[39m\u001B[33m\"\u001B[39m)\n",
      "\u001B[31mValueError\u001B[39m: Node `chatbot` already present."
     ]
    }
   ],
   "execution_count": 34
  }
 ],
 "metadata": {
  "kernelspec": {
   "display_name": "Python 3",
   "language": "python",
   "name": "python3"
  },
  "language_info": {
   "codemirror_mode": {
    "name": "ipython",
    "version": 2
   },
   "file_extension": ".py",
   "mimetype": "text/x-python",
   "name": "python",
   "nbconvert_exporter": "python",
   "pygments_lexer": "ipython2",
   "version": "2.7.6"
  }
 },
 "nbformat": 4,
 "nbformat_minor": 5
}
