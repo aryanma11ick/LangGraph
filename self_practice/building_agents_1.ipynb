{
 "cells": [
  {
   "metadata": {
    "ExecuteTime": {
     "end_time": "2025-03-10T07:09:24.253146Z",
     "start_time": "2025-03-10T07:09:24.233118Z"
    }
   },
   "cell_type": "code",
   "source": [
    "import os\n",
    "from dotenv import load_dotenv\n",
    "\n",
    "from langgraph_w_tools import llm_with_tools\n",
    "\n",
    "load_dotenv()\n",
    "groq_api_key = os.getenv(\"GROQ\")"
   ],
   "id": "af452ff9acf5e6c2",
   "outputs": [],
   "execution_count": 7
  },
  {
   "metadata": {
    "ExecuteTime": {
     "end_time": "2025-03-10T07:09:29.082426Z",
     "start_time": "2025-03-10T07:09:29.057359Z"
    }
   },
   "cell_type": "code",
   "source": "from langchain_groq import ChatGroq",
   "id": "8e79dd57db4bacda",
   "outputs": [],
   "execution_count": 8
  },
  {
   "metadata": {
    "ExecuteTime": {
     "end_time": "2025-03-10T07:10:22.566134Z",
     "start_time": "2025-03-10T07:10:21.567750Z"
    }
   },
   "cell_type": "code",
   "source": "llm = ChatGroq(groq_api_key=groq_api_key, model_name=\"Gemma2-9b-It\")",
   "id": "7ef9fc14c05bd002",
   "outputs": [],
   "execution_count": 11
  },
  {
   "metadata": {
    "ExecuteTime": {
     "end_time": "2025-03-10T07:14:44.676426Z",
     "start_time": "2025-03-10T07:14:44.075265Z"
    }
   },
   "cell_type": "code",
   "source": [
    "from pydantic import BaseModel, Field\n",
    "class SearchQuery(BaseModel):\n",
    "    search_query: str = Field(None, description=\"Query that is optimized for web search\")\n",
    "    justification: str = Field(None, description=\"Why this query is relevant to user's request\")\n",
    "\n",
    "structured_llm = llm.with_structured_output(SearchQuery)\n",
    "\n",
    "output = structured_llm.invoke(\"How does calcium CT Score relate to high cholesterol?\")\n",
    "print(output.search_query)\n",
    "print(output.justification)\n"
   ],
   "id": "2a7551bf9a23866f",
   "outputs": [
    {
     "name": "stdout",
     "output_type": "stream",
     "text": [
      "calcium CT score high cholesterol\n",
      "Understanding the relationship between calcium CT score and high cholesterol\n"
     ]
    }
   ],
   "execution_count": 13
  },
  {
   "metadata": {
    "ExecuteTime": {
     "end_time": "2025-03-10T07:16:28.263373Z",
     "start_time": "2025-03-10T07:16:27.671669Z"
    }
   },
   "cell_type": "code",
   "source": [
    "#Define a tool\n",
    "\n",
    "def multiply(a: int, b: int) -> int:\n",
    "    return a * b\n",
    "\n",
    "#Augment the LLM with tools\n",
    "llm_with_tools = llm.bind_tools([multiply])\n",
    "\n",
    "#Invoke the llm with input that triggers the tool call\n",
    "msg = llm_with_tools.invoke(\"What is 2 times 3?\")\n",
    "\n",
    "#Get the tool calls\n",
    "msg.tool_calls"
   ],
   "id": "3ebb9e11f1c8226a",
   "outputs": [
    {
     "data": {
      "text/plain": [
       "[{'name': 'multiply',\n",
       "  'args': {'a': 2, 'b': 3},\n",
       "  'id': 'call_nejs',\n",
       "  'type': 'tool_call'}]"
      ]
     },
     "execution_count": 14,
     "metadata": {},
     "output_type": "execute_result"
    }
   ],
   "execution_count": 14
  }
 ],
 "metadata": {
  "kernelspec": {
   "display_name": "Python 3",
   "language": "python",
   "name": "python3"
  },
  "language_info": {
   "codemirror_mode": {
    "name": "ipython",
    "version": 2
   },
   "file_extension": ".py",
   "mimetype": "text/x-python",
   "name": "python",
   "nbconvert_exporter": "python",
   "pygments_lexer": "ipython2",
   "version": "2.7.6"
  }
 },
 "nbformat": 4,
 "nbformat_minor": 5
}
