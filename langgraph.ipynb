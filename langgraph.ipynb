{
 "cells": [
  {
   "cell_type": "code",
   "id": "initial_id",
   "metadata": {
    "collapsed": true,
    "ExecuteTime": {
     "end_time": "2025-03-08T19:32:57.108528Z",
     "start_time": "2025-03-08T19:32:57.102532Z"
    }
   },
   "source": [
    "#API KEY Initialization\n",
    "from dotenv import load_dotenv\n",
    "load_dotenv()\n",
    "groq_api_key = os.getenv(\"GROQ\")\n",
    "langsmith_api_key = os.getenv(\"LANGSMITH\")"
   ],
   "outputs": [],
   "execution_count": 23
  },
  {
   "metadata": {
    "ExecuteTime": {
     "end_time": "2025-03-08T19:32:59.793177Z",
     "start_time": "2025-03-08T19:32:59.787600Z"
    }
   },
   "cell_type": "code",
   "source": [
    "import os\n",
    "os.environ[\"LANGCHAIN_TRACING_V2\"] = \"true\"\n",
    "os.environ[\"LANGCHAIN_API_KEY\"] = langsmith_api_key\n",
    "os.environ[\"LANGCHAIN_PROJECT\"] = \"LangGraph\""
   ],
   "id": "e65b5581ec2b86b3",
   "outputs": [],
   "execution_count": 24
  },
  {
   "metadata": {
    "ExecuteTime": {
     "end_time": "2025-03-08T19:37:21.337051Z",
     "start_time": "2025-03-08T19:37:20.365173Z"
    }
   },
   "cell_type": "code",
   "source": [
    "from langchain_groq import ChatGroq\n",
    "\n",
    "llm = ChatGroq(groq_api_key=groq_api_key, model_name = \"gemma2-9b-it\")\n",
    "llm"
   ],
   "id": "b3503a50c5c55ae1",
   "outputs": [
    {
     "data": {
      "text/plain": [
       "ChatGroq(client=<groq.resources.chat.completions.Completions object at 0x000001E2FD960410>, async_client=<groq.resources.chat.completions.AsyncCompletions object at 0x000001E2FD963110>, model_name='gemma2-9b-it', model_kwargs={}, groq_api_key=SecretStr('**********'))"
      ]
     },
     "execution_count": 31,
     "metadata": {},
     "output_type": "execute_result"
    }
   ],
   "execution_count": 31
  },
  {
   "metadata": {},
   "cell_type": "markdown",
   "source": "## Start Building ChatBot using LangGraph",
   "id": "4d9b59c73a9affd1"
  },
  {
   "metadata": {
    "ExecuteTime": {
     "end_time": "2025-03-08T19:33:05.693182Z",
     "start_time": "2025-03-08T19:33:05.689016Z"
    }
   },
   "cell_type": "code",
   "source": [
    "from typing import Annotated\n",
    "from typing_extensions import TypedDict\n",
    "from langgraph.graph import StateGraph, START, END\n",
    "from langgraph.graph.message import add_messages"
   ],
   "id": "b2d142ab377c68b3",
   "outputs": [],
   "execution_count": 27
  },
  {
   "metadata": {
    "ExecuteTime": {
     "end_time": "2025-03-08T19:21:49.172839Z",
     "start_time": "2025-03-08T19:21:49.167402Z"
    }
   },
   "cell_type": "code",
   "source": [
    "class State(TypedDict):\n",
    "    '''\n",
    "    Messages have the type \"list\", the \"add_messages\" function\n",
    "    in the annotation defines how this state key should be updated.\n",
    "    [In this case, it appends messages to the list, rather than overwriting them]\n",
    "    '''\n",
    "    messages:Annotated[list, add_messages]\n",
    "\n",
    "graph_builder = StateGraph(State)"
   ],
   "id": "f25cfa0f189e46fb",
   "outputs": [],
   "execution_count": 12
  },
  {
   "metadata": {
    "ExecuteTime": {
     "end_time": "2025-03-08T19:21:54.490724Z",
     "start_time": "2025-03-08T19:21:54.484182Z"
    }
   },
   "cell_type": "code",
   "source": "graph_builder",
   "id": "dab0ae9f70426d91",
   "outputs": [
    {
     "data": {
      "text/plain": [
       "<langgraph.graph.state.StateGraph at 0x1e2bfc8aa50>"
      ]
     },
     "execution_count": 13,
     "metadata": {},
     "output_type": "execute_result"
    }
   ],
   "execution_count": 13
  },
  {
   "metadata": {
    "ExecuteTime": {
     "end_time": "2025-03-08T19:24:05.328983Z",
     "start_time": "2025-03-08T19:24:05.323082Z"
    }
   },
   "cell_type": "code",
   "source": [
    "def chatbot(state:State):\n",
    "    return {\"messages\":llm.invoke(state['messages'])}"
   ],
   "id": "f701c7a84e7f1142",
   "outputs": [],
   "execution_count": 14
  },
  {
   "metadata": {
    "ExecuteTime": {
     "end_time": "2025-03-08T19:24:26.006266Z",
     "start_time": "2025-03-08T19:24:25.997998Z"
    }
   },
   "cell_type": "code",
   "source": "graph_builder.add_node(\"chatbot\", chatbot)",
   "id": "b73593cbc999f0d8",
   "outputs": [
    {
     "data": {
      "text/plain": [
       "<langgraph.graph.state.StateGraph at 0x1e2bfc8aa50>"
      ]
     },
     "execution_count": 15,
     "metadata": {},
     "output_type": "execute_result"
    }
   ],
   "execution_count": 15
  },
  {
   "metadata": {
    "ExecuteTime": {
     "end_time": "2025-03-08T19:27:27.282123Z",
     "start_time": "2025-03-08T19:27:27.276059Z"
    }
   },
   "cell_type": "code",
   "source": [
    "graph_builder.add_edge(START, \"chatbot\")\n",
    "graph_builder.add_edge(\"chatbot\", END)"
   ],
   "id": "27173e8d2fcde165",
   "outputs": [
    {
     "data": {
      "text/plain": [
       "<langgraph.graph.state.StateGraph at 0x1e2bfc8aa50>"
      ]
     },
     "execution_count": 19,
     "metadata": {},
     "output_type": "execute_result"
    }
   ],
   "execution_count": 19
  },
  {
   "metadata": {
    "ExecuteTime": {
     "end_time": "2025-03-08T19:27:28.913824Z",
     "start_time": "2025-03-08T19:27:28.907644Z"
    }
   },
   "cell_type": "code",
   "source": "graph=graph_builder.compile()",
   "id": "ff0cc1fd4d2e1306",
   "outputs": [],
   "execution_count": 20
  },
  {
   "metadata": {
    "ExecuteTime": {
     "end_time": "2025-03-08T19:29:22.844857Z",
     "start_time": "2025-03-08T19:29:22.458445Z"
    }
   },
   "cell_type": "code",
   "source": [
    "from IPython.display import display, Image\n",
    "\n",
    "try:\n",
    "    display(Image(graph.get_graph().draw_mermaid_png()))\n",
    "except Exception:\n",
    "    pass"
   ],
   "id": "9d08ee81100154a0",
   "outputs": [
    {
     "data": {
      "image/png": "[encoded data removed]",
      "text/plain": [
       "<IPython.core.display.Image object>"
      ]
     },
     "metadata": {},
     "output_type": "display_data"
    }
   ],
   "execution_count": 22
  },
  {
   "metadata": {
    "ExecuteTime": {
     "end_time": "2025-03-08T19:38:39.691082Z",
     "start_time": "2025-03-08T19:38:07.088460Z"
    }
   },
   "cell_type": "code",
   "source": [
    "while True:\n",
    "    user_input = input(\"User: \")\n",
    "    if user_input.lower() in [\"quit\",\"q\"]:\n",
    "        print(\"Goodbye\")\n",
    "        break\n",
    "    for event in graph.stream({'messages':(\"user\", user_input)}):\n",
    "        print(event.values())\n",
    "        for value in event.values():\n",
    "            print(value['messages'])\n",
    "            print(\"Assistance: \", value['messages'].content)"
   ],
   "id": "d48d256b985618b5",
   "outputs": [
    {
     "name": "stdout",
     "output_type": "stream",
     "text": [
      "dict_values([{'messages': AIMessage(content='You can absolutely run prompts in your terminal instead of a popup window! This is a great way to integrate AI interactions into your workflows and automate tasks.\\n\\nHere\\'s how to do it, along with some important considerations:\\n\\n**Understanding the Basics**\\n\\n* **Interactivity:**  Traditional popup windows are designed for graphical user interfaces (GUIs). Terminals are text-based environments.  To mimic interactivity, we\\'ll use text input and output.\\n* **Libraries:** You\\'ll need a library that can handle AI model interactions and communicate with your terminal. Popular choices include:\\n\\n    * **Python:**\\n        * `openai`: For interacting with OpenAI models like GPT-3.\\n        * `transformers`:  A more general-purpose library for working with various transformer models.\\n\\n**Example Using Python and OpenAI**\\n\\n```python\\nimport openai\\n\\nopenai.api_key = \"YOUR_API_KEY\"  # Replace with your actual API key\\n\\nwhile True:\\n    user_input = input(\"You: \")  # Get input from the user in the terminal\\n\\n    if user_input.lower() == \"exit\":\\n        break\\n\\n    response = openai.Completion.create(\\n        engine=\"text-davinci-003\",  # Choose your desired OpenAI model\\n        prompt=user_input,\\n        max_tokens=150  # Control the length of the AI\\'s response\\n    )\\n\\n    print(\"AI:\", response.choices[0].text.strip())  # Print the AI\\'s response\\n```\\n\\n**Explanation**\\n\\n1. **Import Libraries:**  Import the necessary libraries (`openai`).\\n2. **API Key:** Set your OpenAI API key.\\n3. **Loop for Interaction:**  Create an infinite loop to keep the conversation going.\\n4. **Get User Input:** Use `input(\"You: \")` to prompt the user for text in the terminal.\\n5. **Exit Condition:** Check if the user types \"exit\" to break the loop.\\n6. **AI Response:**\\n   * Use `openai.Completion.create()` to send the user\\'s input to the OpenAI API.\\n   * Specify the desired model (e.g., \"text-davinci-003\").\\n   * Adjust `max_tokens` to control the length of the AI\\'s output.\\n7. **Print Response:** Display the AI\\'s generated text using `print(\"AI:\", response.choices[0].text.strip())`.\\n\\n**Important Notes**\\n\\n* **API Key:**  Get your OpenAI API key from [https://platform.openai.com/account/api-keys](https://platform.openai.com/account/api-keys) and replace `\"YOUR_API_KEY\"` in the code.\\n* **Model Choice:** Experiment with different OpenAI models to find the one that best suits your needs.\\n* **Error Handling:**  Add error handling to your code to gracefully handle potential issues with the API or user input.\\n\\n\\n\\nLet me know if you have any other questions or want help with a specific AI model or task!', additional_kwargs={}, response_metadata={'token_usage': {'completion_tokens': 670, 'prompt_tokens': 25, 'total_tokens': 695, 'completion_time': 1.218181818, 'prompt_time': 0.002314075, 'queue_time': 0.238288062, 'total_time': 1.220495893}, 'model_name': 'gemma2-9b-it', 'system_fingerprint': 'fp_10c08bf97d', 'finish_reason': 'stop', 'logprobs': None}, id='run-788b6c9e-3bf5-4461-92fb-52ff25939481-0', usage_metadata={'input_tokens': 25, 'output_tokens': 670, 'total_tokens': 695})}])\n",
      "content='You can absolutely run prompts in your terminal instead of a popup window! This is a great way to integrate AI interactions into your workflows and automate tasks.\\n\\nHere\\'s how to do it, along with some important considerations:\\n\\n**Understanding the Basics**\\n\\n* **Interactivity:**  Traditional popup windows are designed for graphical user interfaces (GUIs). Terminals are text-based environments.  To mimic interactivity, we\\'ll use text input and output.\\n* **Libraries:** You\\'ll need a library that can handle AI model interactions and communicate with your terminal. Popular choices include:\\n\\n    * **Python:**\\n        * `openai`: For interacting with OpenAI models like GPT-3.\\n        * `transformers`:  A more general-purpose library for working with various transformer models.\\n\\n**Example Using Python and OpenAI**\\n\\n```python\\nimport openai\\n\\nopenai.api_key = \"YOUR_API_KEY\"  # Replace with your actual API key\\n\\nwhile True:\\n    user_input = input(\"You: \")  # Get input from the user in the terminal\\n\\n    if user_input.lower() == \"exit\":\\n        break\\n\\n    response = openai.Completion.create(\\n        engine=\"text-davinci-003\",  # Choose your desired OpenAI model\\n        prompt=user_input,\\n        max_tokens=150  # Control the length of the AI\\'s response\\n    )\\n\\n    print(\"AI:\", response.choices[0].text.strip())  # Print the AI\\'s response\\n```\\n\\n**Explanation**\\n\\n1. **Import Libraries:**  Import the necessary libraries (`openai`).\\n2. **API Key:** Set your OpenAI API key.\\n3. **Loop for Interaction:**  Create an infinite loop to keep the conversation going.\\n4. **Get User Input:** Use `input(\"You: \")` to prompt the user for text in the terminal.\\n5. **Exit Condition:** Check if the user types \"exit\" to break the loop.\\n6. **AI Response:**\\n   * Use `openai.Completion.create()` to send the user\\'s input to the OpenAI API.\\n   * Specify the desired model (e.g., \"text-davinci-003\").\\n   * Adjust `max_tokens` to control the length of the AI\\'s output.\\n7. **Print Response:** Display the AI\\'s generated text using `print(\"AI:\", response.choices[0].text.strip())`.\\n\\n**Important Notes**\\n\\n* **API Key:**  Get your OpenAI API key from [https://platform.openai.com/account/api-keys](https://platform.openai.com/account/api-keys) and replace `\"YOUR_API_KEY\"` in the code.\\n* **Model Choice:** Experiment with different OpenAI models to find the one that best suits your needs.\\n* **Error Handling:**  Add error handling to your code to gracefully handle potential issues with the API or user input.\\n\\n\\n\\nLet me know if you have any other questions or want help with a specific AI model or task!' additional_kwargs={} response_metadata={'token_usage': {'completion_tokens': 670, 'prompt_tokens': 25, 'total_tokens': 695, 'completion_time': 1.218181818, 'prompt_time': 0.002314075, 'queue_time': 0.238288062, 'total_time': 1.220495893}, 'model_name': 'gemma2-9b-it', 'system_fingerprint': 'fp_10c08bf97d', 'finish_reason': 'stop', 'logprobs': None} id='run-788b6c9e-3bf5-4461-92fb-52ff25939481-0' usage_metadata={'input_tokens': 25, 'output_tokens': 670, 'total_tokens': 695}\n",
      "Assistance:  You can absolutely run prompts in your terminal instead of a popup window! This is a great way to integrate AI interactions into your workflows and automate tasks.\n",
      "\n",
      "Here's how to do it, along with some important considerations:\n",
      "\n",
      "**Understanding the Basics**\n",
      "\n",
      "* **Interactivity:**  Traditional popup windows are designed for graphical user interfaces (GUIs). Terminals are text-based environments.  To mimic interactivity, we'll use text input and output.\n",
      "* **Libraries:** You'll need a library that can handle AI model interactions and communicate with your terminal. Popular choices include:\n",
      "\n",
      "    * **Python:**\n",
      "        * `openai`: For interacting with OpenAI models like GPT-3.\n",
      "        * `transformers`:  A more general-purpose library for working with various transformer models.\n",
      "\n",
      "**Example Using Python and OpenAI**\n",
      "\n",
      "```python\n",
      "import openai\n",
      "\n",
      "openai.api_key = \"YOUR_API_KEY\"  # Replace with your actual API key\n",
      "\n",
      "while True:\n",
      "    user_input = input(\"You: \")  # Get input from the user in the terminal\n",
      "\n",
      "    if user_input.lower() == \"exit\":\n",
      "        break\n",
      "\n",
      "    response = openai.Completion.create(\n",
      "        engine=\"text-davinci-003\",  # Choose your desired OpenAI model\n",
      "        prompt=user_input,\n",
      "        max_tokens=150  # Control the length of the AI's response\n",
      "    )\n",
      "\n",
      "    print(\"AI:\", response.choices[0].text.strip())  # Print the AI's response\n",
      "```\n",
      "\n",
      "**Explanation**\n",
      "\n",
      "1. **Import Libraries:**  Import the necessary libraries (`openai`).\n",
      "2. **API Key:** Set your OpenAI API key.\n",
      "3. **Loop for Interaction:**  Create an infinite loop to keep the conversation going.\n",
      "4. **Get User Input:** Use `input(\"You: \")` to prompt the user for text in the terminal.\n",
      "5. **Exit Condition:** Check if the user types \"exit\" to break the loop.\n",
      "6. **AI Response:**\n",
      "   * Use `openai.Completion.create()` to send the user's input to the OpenAI API.\n",
      "   * Specify the desired model (e.g., \"text-davinci-003\").\n",
      "   * Adjust `max_tokens` to control the length of the AI's output.\n",
      "7. **Print Response:** Display the AI's generated text using `print(\"AI:\", response.choices[0].text.strip())`.\n",
      "\n",
      "**Important Notes**\n",
      "\n",
      "* **API Key:**  Get your OpenAI API key from [https://platform.openai.com/account/api-keys](https://platform.openai.com/account/api-keys) and replace `\"YOUR_API_KEY\"` in the code.\n",
      "* **Model Choice:** Experiment with different OpenAI models to find the one that best suits your needs.\n",
      "* **Error Handling:**  Add error handling to your code to gracefully handle potential issues with the API or user input.\n",
      "\n",
      "\n",
      "\n",
      "Let me know if you have any other questions or want help with a specific AI model or task!\n",
      "Goodbye\n"
     ]
    }
   ],
   "execution_count": 33
  }
 ],
 "metadata": {
  "kernelspec": {
   "display_name": "Python 3",
   "language": "python",
   "name": "python3"
  },
  "language_info": {
   "codemirror_mode": {
    "name": "ipython",
    "version": 2
   },
   "file_extension": ".py",
   "mimetype": "text/x-python",
   "name": "python",
   "nbconvert_exporter": "python",
   "pygments_lexer": "ipython2",
   "version": "2.7.6"
  }
 },
 "nbformat": 4,
 "nbformat_minor": 5
}
