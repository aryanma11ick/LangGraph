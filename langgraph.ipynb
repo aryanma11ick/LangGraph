{
 "cells": [
  {
   "cell_type": "code",
   "id": "initial_id",
   "metadata": {
    "collapsed": true,
    "ExecuteTime": {
     "end_time": "2025-03-08T15:58:49.440517Z",
     "start_time": "2025-03-08T15:58:49.433619Z"
    }
   },
   "source": [
    "#API KEY Initialization\n",
    "from dotenv import load_dotenv\n",
    "load_dotenv()\n",
    "\n",
    "groq_api_key = os.getenv(\"GROQ\")\n",
    "langsmith_api_key = os.getenv(\"LANGSMITH\")"
   ],
   "outputs": [],
   "execution_count": 6
  },
  {
   "metadata": {
    "ExecuteTime": {
     "end_time": "2025-03-08T16:00:38.495980Z",
     "start_time": "2025-03-08T16:00:38.490784Z"
    }
   },
   "cell_type": "code",
   "source": [
    "import os\n",
    "os.environ[\"LANGCHAIN_TRACING_V2\"] = \"true\"\n",
    "os.environ[\"LANGCHAIN_API_KEY\"] = langsmith_api_key\n",
    "os.environ[\"LANGCHAIN_PROJECT\"] = \"LangGraph\""
   ],
   "id": "e65b5581ec2b86b3",
   "outputs": [],
   "execution_count": 8
  },
  {
   "metadata": {
    "ExecuteTime": {
     "end_time": "2025-03-08T16:03:28.097722Z",
     "start_time": "2025-03-08T16:03:25.448549Z"
    }
   },
   "cell_type": "code",
   "source": [
    "from langchain_groq import ChatGroq\n",
    "\n",
    "llm = ChatGroq(groq_api_key=groq_api_key, model_name = \"gemma2-9b-it\")\n",
    "llm"
   ],
   "id": "b3503a50c5c55ae1",
   "outputs": [
    {
     "data": {
      "text/plain": [
       "ChatGroq(client=<groq.resources.chat.completions.Completions object at 0x000001E2BFC6C980>, async_client=<groq.resources.chat.completions.AsyncCompletions object at 0x000001E2BFC6ECF0>, model_name='gemma2-9b-it', model_kwargs={}, groq_api_key=SecretStr('**********'))"
      ]
     },
     "execution_count": 9,
     "metadata": {},
     "output_type": "execute_result"
    }
   ],
   "execution_count": 9
  },
  {
   "metadata": {},
   "cell_type": "markdown",
   "source": "## Start Building ChatBot using LangGraph",
   "id": "4d9b59c73a9affd1"
  },
  {
   "metadata": {
    "ExecuteTime": {
     "end_time": "2025-03-08T19:17:11.762576Z",
     "start_time": "2025-03-08T19:17:11.643949Z"
    }
   },
   "cell_type": "code",
   "source": [
    "from typing import Annotated\n",
    "from typing_extensions import TypedDict\n",
    "from langgraph.graph import StateGraph, START, END\n",
    "from langgraph.graph.message import add_messages"
   ],
   "id": "b2d142ab377c68b3",
   "outputs": [],
   "execution_count": 10
  },
  {
   "metadata": {
    "ExecuteTime": {
     "end_time": "2025-03-08T19:21:49.172839Z",
     "start_time": "2025-03-08T19:21:49.167402Z"
    }
   },
   "cell_type": "code",
   "source": [
    "class State(TypedDict):\n",
    "    '''\n",
    "    Messages have the type \"list\", the \"add_messages\" function\n",
    "    in the annotation defines how this state key should be updated.\n",
    "    [In this case, it appends messages to the list, rather than overwriting them]\n",
    "    '''\n",
    "    messages:Annotated[list, add_messages]\n",
    "\n",
    "graph_builder = StateGraph(State)"
   ],
   "id": "f25cfa0f189e46fb",
   "outputs": [],
   "execution_count": 12
  },
  {
   "metadata": {
    "ExecuteTime": {
     "end_time": "2025-03-08T19:21:54.490724Z",
     "start_time": "2025-03-08T19:21:54.484182Z"
    }
   },
   "cell_type": "code",
   "source": "graph_builder",
   "id": "dab0ae9f70426d91",
   "outputs": [
    {
     "data": {
      "text/plain": [
       "<langgraph.graph.state.StateGraph at 0x1e2bfc8aa50>"
      ]
     },
     "execution_count": 13,
     "metadata": {},
     "output_type": "execute_result"
    }
   ],
   "execution_count": 13
  },
  {
   "metadata": {
    "ExecuteTime": {
     "end_time": "2025-03-08T19:24:05.328983Z",
     "start_time": "2025-03-08T19:24:05.323082Z"
    }
   },
   "cell_type": "code",
   "source": [
    "def chatbot(state:State):\n",
    "    return {\"messages\":llm.invoke(state['messages'])}"
   ],
   "id": "f701c7a84e7f1142",
   "outputs": [],
   "execution_count": 14
  },
  {
   "metadata": {
    "ExecuteTime": {
     "end_time": "2025-03-08T19:24:26.006266Z",
     "start_time": "2025-03-08T19:24:25.997998Z"
    }
   },
   "cell_type": "code",
   "source": "graph_builder.add_node(\"chatbot\", chatbot)",
   "id": "b73593cbc999f0d8",
   "outputs": [
    {
     "data": {
      "text/plain": [
       "<langgraph.graph.state.StateGraph at 0x1e2bfc8aa50>"
      ]
     },
     "execution_count": 15,
     "metadata": {},
     "output_type": "execute_result"
    }
   ],
   "execution_count": 15
  },
  {
   "metadata": {},
   "cell_type": "code",
   "outputs": [],
   "execution_count": null,
   "source": "",
   "id": "27173e8d2fcde165"
  }
 ],
 "metadata": {
  "kernelspec": {
   "display_name": "Python 3",
   "language": "python",
   "name": "python3"
  },
  "language_info": {
   "codemirror_mode": {
    "name": "ipython",
    "version": 2
   },
   "file_extension": ".py",
   "mimetype": "text/x-python",
   "name": "python",
   "nbconvert_exporter": "python",
   "pygments_lexer": "ipython2",
   "version": "2.7.6"
  }
 },
 "nbformat": 4,
 "nbformat_minor": 5
}
